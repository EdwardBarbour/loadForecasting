{
 "cells": [
  {
   "cell_type": "code",
   "execution_count": 1,
   "metadata": {},
   "outputs": [],
   "source": [
    "import numpy as np\n",
    "import matplotlib.pyplot as plt\n",
    "import math\n",
    "import seaborn as sns\n",
    "import csv\n",
    "import sys\n",
    "import pandas as pd\n",
    "import time"
   ]
  },
  {
   "cell_type": "code",
   "execution_count": 2,
   "metadata": {},
   "outputs": [],
   "source": [
    "from six.moves import cPickle as pickle"
   ]
  },
  {
   "cell_type": "code",
   "execution_count": 4,
   "metadata": {},
   "outputs": [],
   "source": [
    "with open('../intermediateData/aggTrainingData.pickle', 'rb') as pickleFile:\n",
    "    aggTrainingData = pickle.load(pickleFile, encoding='latin-1') \n",
    "with open('../intermediateData/aggTestingData.pickle', 'rb') as pickleFile:\n",
    "    aggTestingData = pickle.load(pickleFile, encoding='latin-1') \n",
    "with open('../intermediateData/aggLoad.pickle', 'rb') as pickleFile:\n",
    "    aggLoad = pickle.load(pickleFile, encoding='latin-1') "
   ]
  },
  {
   "cell_type": "code",
   "execution_count": null,
   "metadata": {},
   "outputs": [],
   "source": []
  },
  {
   "cell_type": "code",
   "execution_count": 5,
   "metadata": {},
   "outputs": [
    {
     "name": "stderr",
     "output_type": "stream",
     "text": [
      "Using TensorFlow backend.\n"
     ]
    }
   ],
   "source": [
    "from keras.models import Sequential\n",
    "from keras.layers import Dense, LSTM\n",
    "from sklearn.preprocessing import MinMaxScaler"
   ]
  },
  {
   "cell_type": "code",
   "execution_count": 7,
   "metadata": {},
   "outputs": [],
   "source": [
    "# aggLoad[0:24]"
   ]
  },
  {
   "cell_type": "code",
   "execution_count": 8,
   "metadata": {},
   "outputs": [
    {
     "data": {
      "text/plain": [
       "[(179.76599999999993, 268.628),\n",
       " (169.9300000000001, 262.4930000000001),\n",
       " (166.3389999999999, 250.31199999999993),\n",
       " (177.69700000000006, 248.88500000000002),\n",
       " (197.27999999999977, 262.0730000000001)]"
      ]
     },
     "execution_count": 8,
     "metadata": {},
     "output_type": "execute_result"
    }
   ],
   "source": [
    "## traing data structure\n",
    "# constants for tues-fri and sat-mon\n",
    "# linear terms for 24 hour lag for tues-fri and sat-mon\n",
    "# linear terms for 168 hour lag for tues-fri and sat-mon\n",
    "# temp const, linear quad X 4 day sections\n",
    "[(x[2],x[4]) for x in aggTrainingData[0:5]]"
   ]
  },
  {
   "cell_type": "code",
   "execution_count": 9,
   "metadata": {},
   "outputs": [
    {
     "data": {
      "text/plain": [
       "(2015-01-08 00:00:00    294.471\n",
       " 2015-01-08 01:00:00    299.324\n",
       " 2015-01-08 02:00:00    301.725\n",
       " 2015-01-08 03:00:00    308.153\n",
       " 2015-01-08 04:00:00    318.884\n",
       " 2015-01-08 05:00:00    343.406\n",
       " 2015-01-08 06:00:00    409.541\n",
       " 2015-01-08 07:00:00    434.748\n",
       " 2015-01-08 08:00:00    379.521\n",
       " 2015-01-08 09:00:00    357.275\n",
       " 2015-01-08 10:00:00    336.465\n",
       " 2015-01-08 11:00:00    346.022\n",
       " 2015-01-08 12:00:00    317.574\n",
       " 2015-01-08 13:00:00    335.512\n",
       " 2015-01-08 14:00:00    323.688\n",
       " 2015-01-08 15:00:00    324.868\n",
       " 2015-01-08 16:00:00    345.387\n",
       " 2015-01-08 17:00:00    458.012\n",
       " 2015-01-08 18:00:00    483.139\n",
       " 2015-01-08 19:00:00    480.902\n",
       " 2015-01-08 20:00:00    463.365\n",
       " 2015-01-08 21:00:00    416.324\n",
       " 2015-01-08 22:00:00    358.411\n",
       " 2015-01-08 23:00:00    302.671\n",
       " dtype: float64,\n",
       " array([[ 1.00000e+00,  0.00000e+00,  1.79766e+02,  0.00000e+00,\n",
       "          2.68628e+02,  0.00000e+00, -3.70000e+00,  1.36900e+01,\n",
       "          1.00000e+00, -0.00000e+00,  0.00000e+00,  0.00000e+00,\n",
       "         -0.00000e+00,  0.00000e+00,  0.00000e+00, -0.00000e+00,\n",
       "          0.00000e+00,  0.00000e+00],\n",
       "        [ 1.00000e+00,  0.00000e+00,  1.69930e+02,  0.00000e+00,\n",
       "          2.62493e+02,  0.00000e+00, -4.40000e+00,  1.93600e+01,\n",
       "          1.00000e+00, -0.00000e+00,  0.00000e+00,  0.00000e+00,\n",
       "         -0.00000e+00,  0.00000e+00,  0.00000e+00, -0.00000e+00,\n",
       "          0.00000e+00,  0.00000e+00],\n",
       "        [ 1.00000e+00,  0.00000e+00,  1.66339e+02,  0.00000e+00,\n",
       "          2.50312e+02,  0.00000e+00, -5.10000e+00,  2.60100e+01,\n",
       "          1.00000e+00, -0.00000e+00,  0.00000e+00,  0.00000e+00,\n",
       "         -0.00000e+00,  0.00000e+00,  0.00000e+00, -0.00000e+00,\n",
       "          0.00000e+00,  0.00000e+00],\n",
       "        [ 1.00000e+00,  0.00000e+00,  1.77697e+02,  0.00000e+00,\n",
       "          2.48885e+02,  0.00000e+00, -5.80000e+00,  3.36400e+01,\n",
       "          1.00000e+00, -0.00000e+00,  0.00000e+00,  0.00000e+00,\n",
       "         -0.00000e+00,  0.00000e+00,  0.00000e+00, -0.00000e+00,\n",
       "          0.00000e+00,  0.00000e+00],\n",
       "        [ 1.00000e+00,  0.00000e+00,  1.97280e+02,  0.00000e+00,\n",
       "          2.62073e+02,  0.00000e+00, -6.60000e+00,  4.35600e+01,\n",
       "          1.00000e+00, -0.00000e+00,  0.00000e+00,  0.00000e+00,\n",
       "         -0.00000e+00,  0.00000e+00,  0.00000e+00, -0.00000e+00,\n",
       "          0.00000e+00,  0.00000e+00],\n",
       "        [ 1.00000e+00,  0.00000e+00,  2.04497e+02,  0.00000e+00,\n",
       "          2.64186e+02,  0.00000e+00, -0.00000e+00,  0.00000e+00,\n",
       "          0.00000e+00, -7.20000e+00,  5.18400e+01,  1.00000e+00,\n",
       "         -0.00000e+00,  0.00000e+00,  0.00000e+00, -0.00000e+00,\n",
       "          0.00000e+00,  0.00000e+00],\n",
       "        [ 1.00000e+00,  0.00000e+00,  2.79969e+02,  0.00000e+00,\n",
       "          2.88474e+02,  0.00000e+00, -0.00000e+00,  0.00000e+00,\n",
       "          0.00000e+00, -7.60000e+00,  5.77600e+01,  1.00000e+00,\n",
       "         -0.00000e+00,  0.00000e+00,  0.00000e+00, -0.00000e+00,\n",
       "          0.00000e+00,  0.00000e+00],\n",
       "        [ 1.00000e+00,  0.00000e+00,  3.05763e+02,  0.00000e+00,\n",
       "          3.00935e+02,  0.00000e+00, -0.00000e+00,  0.00000e+00,\n",
       "          0.00000e+00, -7.70000e+00,  5.92900e+01,  1.00000e+00,\n",
       "         -0.00000e+00,  0.00000e+00,  0.00000e+00, -0.00000e+00,\n",
       "          0.00000e+00,  0.00000e+00],\n",
       "        [ 1.00000e+00,  0.00000e+00,  2.45687e+02,  0.00000e+00,\n",
       "          2.95243e+02,  0.00000e+00, -0.00000e+00,  0.00000e+00,\n",
       "          0.00000e+00, -6.50000e+00,  4.22500e+01,  1.00000e+00,\n",
       "         -0.00000e+00,  0.00000e+00,  0.00000e+00, -0.00000e+00,\n",
       "          0.00000e+00,  0.00000e+00],\n",
       "        [ 1.00000e+00,  0.00000e+00,  2.36046e+02,  0.00000e+00,\n",
       "          3.73345e+02,  0.00000e+00, -0.00000e+00,  0.00000e+00,\n",
       "          0.00000e+00, -0.00000e+00,  0.00000e+00,  0.00000e+00,\n",
       "         -5.20000e+00,  2.70400e+01,  1.00000e+00, -0.00000e+00,\n",
       "          0.00000e+00,  0.00000e+00],\n",
       "        [ 1.00000e+00,  0.00000e+00,  2.25977e+02,  0.00000e+00,\n",
       "          3.70386e+02,  0.00000e+00, -0.00000e+00,  0.00000e+00,\n",
       "          0.00000e+00, -0.00000e+00,  0.00000e+00,  0.00000e+00,\n",
       "         -4.30000e+00,  1.84900e+01,  1.00000e+00, -0.00000e+00,\n",
       "          0.00000e+00,  0.00000e+00],\n",
       "        [ 1.00000e+00,  0.00000e+00,  2.25642e+02,  0.00000e+00,\n",
       "          3.68615e+02,  0.00000e+00, -0.00000e+00,  0.00000e+00,\n",
       "          0.00000e+00, -0.00000e+00,  0.00000e+00,  0.00000e+00,\n",
       "         -3.60000e+00,  1.29600e+01,  1.00000e+00, -0.00000e+00,\n",
       "          0.00000e+00,  0.00000e+00],\n",
       "        [ 1.00000e+00,  0.00000e+00,  2.12450e+02,  0.00000e+00,\n",
       "          4.05813e+02,  0.00000e+00, -0.00000e+00,  0.00000e+00,\n",
       "          0.00000e+00, -0.00000e+00,  0.00000e+00,  0.00000e+00,\n",
       "         -3.40000e+00,  1.15600e+01,  1.00000e+00, -0.00000e+00,\n",
       "          0.00000e+00,  0.00000e+00],\n",
       "        [ 1.00000e+00,  0.00000e+00,  2.07377e+02,  0.00000e+00,\n",
       "          3.98748e+02,  0.00000e+00, -0.00000e+00,  0.00000e+00,\n",
       "          0.00000e+00, -0.00000e+00,  0.00000e+00,  0.00000e+00,\n",
       "         -3.00000e+00,  9.00000e+00,  1.00000e+00, -0.00000e+00,\n",
       "          0.00000e+00,  0.00000e+00],\n",
       "        [ 1.00000e+00,  0.00000e+00,  1.98259e+02,  0.00000e+00,\n",
       "          3.92443e+02,  0.00000e+00, -0.00000e+00,  0.00000e+00,\n",
       "          0.00000e+00, -0.00000e+00,  0.00000e+00,  0.00000e+00,\n",
       "         -1.70000e+00,  2.89000e+00,  1.00000e+00, -0.00000e+00,\n",
       "          0.00000e+00,  0.00000e+00],\n",
       "        [ 1.00000e+00,  0.00000e+00,  2.15312e+02,  0.00000e+00,\n",
       "          3.76995e+02,  0.00000e+00, -0.00000e+00,  0.00000e+00,\n",
       "          0.00000e+00, -0.00000e+00,  0.00000e+00,  0.00000e+00,\n",
       "         -8.00000e-01,  6.40000e-01,  1.00000e+00, -0.00000e+00,\n",
       "          0.00000e+00,  0.00000e+00],\n",
       "        [ 1.00000e+00,  0.00000e+00,  2.49683e+02,  0.00000e+00,\n",
       "          3.70220e+02,  0.00000e+00, -0.00000e+00,  0.00000e+00,\n",
       "          0.00000e+00, -0.00000e+00,  0.00000e+00,  0.00000e+00,\n",
       "         -0.00000e+00,  0.00000e+00,  0.00000e+00, -3.00000e-01,\n",
       "          9.00000e-02,  1.00000e+00],\n",
       "        [ 1.00000e+00,  0.00000e+00,  3.58683e+02,  0.00000e+00,\n",
       "          3.89134e+02,  0.00000e+00, -0.00000e+00,  0.00000e+00,\n",
       "          0.00000e+00, -0.00000e+00,  0.00000e+00,  0.00000e+00,\n",
       "         -0.00000e+00,  0.00000e+00,  0.00000e+00, -1.00000e-01,\n",
       "          1.00000e-02,  1.00000e+00],\n",
       "        [ 1.00000e+00,  0.00000e+00,  4.31731e+02,  0.00000e+00,\n",
       "          4.26857e+02,  0.00000e+00, -0.00000e+00,  0.00000e+00,\n",
       "          0.00000e+00, -0.00000e+00,  0.00000e+00,  0.00000e+00,\n",
       "         -0.00000e+00,  0.00000e+00,  0.00000e+00, -9.00000e-01,\n",
       "          8.10000e-01,  1.00000e+00],\n",
       "        [ 1.00000e+00,  0.00000e+00,  4.51668e+02,  0.00000e+00,\n",
       "          4.03377e+02,  0.00000e+00, -0.00000e+00,  0.00000e+00,\n",
       "          0.00000e+00, -0.00000e+00,  0.00000e+00,  0.00000e+00,\n",
       "         -0.00000e+00,  0.00000e+00,  0.00000e+00, -9.00000e-01,\n",
       "          8.10000e-01,  1.00000e+00],\n",
       "        [ 1.00000e+00,  0.00000e+00,  4.46121e+02,  0.00000e+00,\n",
       "          3.91782e+02,  0.00000e+00, -0.00000e+00,  0.00000e+00,\n",
       "          0.00000e+00, -0.00000e+00,  0.00000e+00,  0.00000e+00,\n",
       "         -0.00000e+00,  0.00000e+00,  0.00000e+00, -3.00000e-01,\n",
       "          9.00000e-02,  1.00000e+00],\n",
       "        [ 1.00000e+00,  0.00000e+00,  4.14793e+02,  0.00000e+00,\n",
       "          3.76499e+02,  0.00000e+00,  0.00000e+00,  0.00000e+00,\n",
       "          0.00000e+00,  0.00000e+00,  0.00000e+00,  0.00000e+00,\n",
       "          0.00000e+00,  0.00000e+00,  0.00000e+00,  0.00000e+00,\n",
       "          0.00000e+00,  1.00000e+00],\n",
       "        [ 1.00000e+00,  0.00000e+00,  3.40265e+02,  0.00000e+00,\n",
       "          3.29877e+02,  0.00000e+00,  0.00000e+00,  0.00000e+00,\n",
       "          0.00000e+00,  0.00000e+00,  0.00000e+00,  0.00000e+00,\n",
       "          0.00000e+00,  0.00000e+00,  0.00000e+00,  1.00000e-01,\n",
       "          1.00000e-02,  1.00000e+00],\n",
       "        [ 1.00000e+00,  0.00000e+00,  2.96665e+02,  0.00000e+00,\n",
       "          2.93271e+02,  0.00000e+00,  4.00000e-01,  1.60000e-01,\n",
       "          1.00000e+00,  0.00000e+00,  0.00000e+00,  0.00000e+00,\n",
       "          0.00000e+00,  0.00000e+00,  0.00000e+00,  4.00000e-01,\n",
       "          1.60000e-01,  1.00000e+00]], dtype=float32))"
      ]
     },
     "execution_count": 9,
     "metadata": {},
     "output_type": "execute_result"
    }
   ],
   "source": [
    "aggTrainingData = aggTrainingData.astype('float32')\n",
    "aggLoad[168:192], aggTrainingData[0:24]"
   ]
  },
  {
   "cell_type": "code",
   "execution_count": 10,
   "metadata": {},
   "outputs": [
    {
     "data": {
      "text/plain": [
       "(5664, 18)"
      ]
     },
     "execution_count": 10,
     "metadata": {},
     "output_type": "execute_result"
    }
   ],
   "source": [
    "np.shape(aggTrainingData)"
   ]
  },
  {
   "cell_type": "code",
   "execution_count": 11,
   "metadata": {},
   "outputs": [],
   "source": [
    "# create and fit Multilayer Perceptron model\n",
    "mdl = Sequential()\n",
    "# first hidden layer, input tensor has dimension of y trainingData\n",
    "mdl.add(Dense(units=18, input_dim=18, activation='relu'))\n",
    "# second hidden layer with 8 nodes\n",
    "mdl.add(Dense(units=20, activation='relu'))\n",
    "# output layer\n",
    "mdl.add(Dense(units=1))\n",
    "mdl.compile(loss='mean_squared_error', optimizer='adam')"
   ]
  },
  {
   "cell_type": "code",
   "execution_count": 12,
   "metadata": {},
   "outputs": [
    {
     "data": {
      "text/plain": [
       "<keras.callbacks.History at 0x12b214e48>"
      ]
     },
     "execution_count": 12,
     "metadata": {},
     "output_type": "execute_result"
    }
   ],
   "source": [
    "mdl.fit(aggTrainingData, aggLoad[168:5664+168], epochs=200, batch_size=2, verbose=0)"
   ]
  },
  {
   "cell_type": "code",
   "execution_count": 13,
   "metadata": {},
   "outputs": [
    {
     "name": "stdout",
     "output_type": "stream",
     "text": [
      "Train Score: 1695.57 MSE (41.18 RMSE)\n",
      "Test Score: 2339.01 MSE (48.36 RMSE)\n"
     ]
    }
   ],
   "source": [
    "# estimate model performance\n",
    "train_score = mdl.evaluate(aggTrainingData, aggLoad[168:5664+168], verbose=0)\n",
    "print('Train Score: {:.2f} MSE ({:.2f} RMSE)'.format(train_score, math.sqrt(train_score)))\n",
    "test_score = mdl.evaluate(aggTestingData, aggLoad[5832:7296], verbose=0)\n",
    "print('Test Score: {:.2f} MSE ({:.2f} RMSE)'.format(test_score, math.sqrt(test_score)))"
   ]
  },
  {
   "cell_type": "code",
   "execution_count": 14,
   "metadata": {},
   "outputs": [
    {
     "name": "stdout",
     "output_type": "stream",
     "text": [
      "(1464, 1)\n",
      "8760 5664\n"
     ]
    }
   ],
   "source": [
    "# generate predictions for training\n",
    "train_predict = mdl.predict(aggTrainingData)\n",
    "test_predict = mdl.predict(aggTestingData)\n",
    "print(np.shape(test_predict))\n",
    "print (len(aggLoad), len(train_predict))"
   ]
  },
  {
   "cell_type": "code",
   "execution_count": 15,
   "metadata": {},
   "outputs": [
    {
     "data": {
      "text/plain": [
       "(7296,)"
      ]
     },
     "execution_count": 15,
     "metadata": {},
     "output_type": "execute_result"
    }
   ],
   "source": [
    "np.shape(aggLoad[0:7296])"
   ]
  },
  {
   "cell_type": "code",
   "execution_count": 16,
   "metadata": {},
   "outputs": [],
   "source": [
    "# shift train predictions for plotting\n",
    "train_predict_plot = np.empty_like(aggLoad[0:7296])\n",
    "train_predict_plot[:] = np.nan\n",
    "train_predict_plot[168:5664+168] = np.squeeze(train_predict)"
   ]
  },
  {
   "cell_type": "code",
   "execution_count": 17,
   "metadata": {},
   "outputs": [],
   "source": [
    "# shift test predictions for plotting\n",
    "test_predict_plot = np.empty_like(aggLoad[0:7296])\n",
    "test_predict_plot[:] = np.nan\n",
    "test_predict_plot[5664+168:] = np.squeeze(test_predict)"
   ]
  },
  {
   "cell_type": "code",
   "execution_count": 20,
   "metadata": {},
   "outputs": [
    {
     "data": {
      "image/png": "[encoded data removed]",
      "text/plain": [
       "<Figure size 432x288 with 1 Axes>"
      ]
     },
     "metadata": {
      "needs_background": "light"
     },
     "output_type": "display_data"
    }
   ],
   "source": [
    "# plot baseline and predictions\n",
    "plt.plot(aggLoad[5664:5664+168*2].values, label='Observed', color='#006699');\n",
    "plt.plot(train_predict_plot[5664:5664+168*2], label='Prediction for Train Set', color='#006699', alpha=0.5);\n",
    "plt.plot(test_predict_plot[5664:5664+168*2], label='Prediction for Test Set', color='#ff0066');\n",
    "plt.legend(loc='best');\n",
    "plt.title('Artificial Neural Network')\n",
    "plt.show()"
   ]
  },
  {
   "cell_type": "code",
   "execution_count": null,
   "metadata": {},
   "outputs": [],
   "source": []
  }
 ],
 "metadata": {
  "kernelspec": {
   "display_name": "loadForecasting",
   "language": "python",
   "name": "loadforecasting"
  },
  "language_info": {
   "codemirror_mode": {
    "name": "ipython",
    "version": 3
   },
   "file_extension": ".py",
   "mimetype": "text/x-python",
   "name": "python",
   "nbconvert_exporter": "python",
   "pygments_lexer": "ipython3",
   "version": "3.6.5"
  }
 },
 "nbformat": 4,
 "nbformat_minor": 2
}
