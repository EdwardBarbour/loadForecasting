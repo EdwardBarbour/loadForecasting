{
 "cells": [
  {
   "cell_type": "code",
   "execution_count": 1,
   "metadata": {},
   "outputs": [],
   "source": [
    "import numpy as np\n",
    "import matplotlib.pyplot as plt\n",
    "import matplotlib.colors as colors\n",
    "import matplotlib.cm as cmx\n",
    "import matplotlib.mlab as mlab\n",
    "import matplotlib.ticker as mtick\n",
    "import matplotlib.patches as mpatches\n",
    "import matplotlib.ticker as ticker\n",
    "import math\n",
    "import seaborn as sns\n",
    "from six.moves import cPickle as pickle\n",
    "import csv\n",
    "import sys\n",
    "import pandas as pd\n",
    "import time\n",
    "\n",
    "import statsmodels.formula.api as smf\n",
    "import statsmodels.tsa.api as smt\n",
    "import statsmodels.api as sm\n",
    "import scipy.stats as scs\n",
    "\n",
    "from statsmodels.tsa.stattools import adfuller\n",
    "\n",
    "import matplotlib.lines as mlines\n",
    "import re\n",
    "from scipy import optimize\n",
    "\n",
    "import matplotlib.colors as colors2\n",
    "import matplotlib.cm as cmx\n",
    "\n",
    "import numpy.polynomial.polynomial as poly\n",
    "\n",
    "from pyemd import emd\n",
    "# https://github.com/wmayner/pyemd\n",
    "# Ofir Pele and Michael Werman, \"Fast and robust earth mover's distances,\" in Proc. 2009 IEEE \n",
    "# 12th Int. Conf. on Computer Vision, Kyoto, Japan, 2009, pp. 460-467.\n",
    "\n",
    "from multiprocessing import Pool\n",
    "\n",
    "%matplotlib inline\n",
    "sns.set_style({'axes.linewidth': 1, 'axes.edgecolor':'black', 'xtick.direction': \\\n",
    "               'out', 'xtick.major.size': 4.0, 'ytick.direction': 'out', 'ytick.major.size': 4.0, \\\n",
    "              'axes.facecolor': 'white','grid.color': '.8', 'grid.linestyle': u'-', \\\n",
    "               'xtick.minor.size': 3.0, 'ytick.minor.size': 3.0, 'grid.linewidth': 0.})"
   ]
  },
  {
   "cell_type": "code",
   "execution_count": 3,
   "metadata": {},
   "outputs": [],
   "source": [
    "# load the data\n",
    "consumption_df = pd.read_pickle('../cleanedLoadData/consumption_df_round3.pickle')"
   ]
  },
  {
   "cell_type": "code",
   "execution_count": 4,
   "metadata": {},
   "outputs": [
    {
     "name": "stdout",
     "output_type": "stream",
     "text": [
      "There are now 255 users\n"
     ]
    }
   ],
   "source": [
    "\n",
    "print 'There are now', len(consumption_df), 'users'"
   ]
  },
  {
   "cell_type": "code",
   "execution_count": 4,
   "metadata": {},
   "outputs": [
    {
     "data": {
      "text/html": [
       "<div>\n",
       "<style scoped>\n",
       "    .dataframe tbody tr th:only-of-type {\n",
       "        vertical-align: middle;\n",
       "    }\n",
       "\n",
       "    .dataframe tbody tr th {\n",
       "        vertical-align: top;\n",
       "    }\n",
       "\n",
       "    .dataframe thead th {\n",
       "        text-align: right;\n",
       "    }\n",
       "</style>\n",
       "<table border=\"1\" class=\"dataframe\">\n",
       "  <thead>\n",
       "    <tr style=\"text-align: right;\">\n",
       "      <th></th>\n",
       "      <th>user_id</th>\n",
       "      <th>cities</th>\n",
       "      <th>states</th>\n",
       "      <th>2015-01-01 00:00:00</th>\n",
       "      <th>2015-01-01 00:15:00</th>\n",
       "      <th>2015-01-01 00:30:00</th>\n",
       "      <th>2015-01-01 00:45:00</th>\n",
       "      <th>2015-01-01 01:00:00</th>\n",
       "      <th>2015-01-01 01:15:00</th>\n",
       "      <th>2015-01-01 01:30:00</th>\n",
       "      <th>...</th>\n",
       "      <th>2015-12-31 21:30:00</th>\n",
       "      <th>2015-12-31 21:45:00</th>\n",
       "      <th>2015-12-31 22:00:00</th>\n",
       "      <th>2015-12-31 22:15:00</th>\n",
       "      <th>2015-12-31 22:30:00</th>\n",
       "      <th>2015-12-31 22:45:00</th>\n",
       "      <th>2015-12-31 23:00:00</th>\n",
       "      <th>2015-12-31 23:15:00</th>\n",
       "      <th>2015-12-31 23:30:00</th>\n",
       "      <th>2015-12-31 23:45:00</th>\n",
       "    </tr>\n",
       "  </thead>\n",
       "  <tbody>\n",
       "    <tr>\n",
       "      <th>1</th>\n",
       "      <td>3935</td>\n",
       "      <td>Austin</td>\n",
       "      <td>Texas</td>\n",
       "      <td>0.327050</td>\n",
       "      <td>0.229933</td>\n",
       "      <td>0.224068</td>\n",
       "      <td>0.222282</td>\n",
       "      <td>0.198933</td>\n",
       "      <td>0.188850</td>\n",
       "      <td>0.188400</td>\n",
       "      <td>...</td>\n",
       "      <td>0.180033</td>\n",
       "      <td>0.212550</td>\n",
       "      <td>0.203017</td>\n",
       "      <td>0.219968</td>\n",
       "      <td>0.228933</td>\n",
       "      <td>0.179067</td>\n",
       "      <td>0.0</td>\n",
       "      <td>0.0</td>\n",
       "      <td>0.0</td>\n",
       "      <td>0.0</td>\n",
       "    </tr>\n",
       "    <tr>\n",
       "      <th>2</th>\n",
       "      <td>668</td>\n",
       "      <td>Austin</td>\n",
       "      <td>Texas</td>\n",
       "      <td>0.380267</td>\n",
       "      <td>0.270450</td>\n",
       "      <td>0.246333</td>\n",
       "      <td>0.193282</td>\n",
       "      <td>0.203832</td>\n",
       "      <td>0.214600</td>\n",
       "      <td>0.218750</td>\n",
       "      <td>...</td>\n",
       "      <td>0.094833</td>\n",
       "      <td>0.059950</td>\n",
       "      <td>0.060382</td>\n",
       "      <td>0.078582</td>\n",
       "      <td>0.116950</td>\n",
       "      <td>0.089332</td>\n",
       "      <td>0.0</td>\n",
       "      <td>0.0</td>\n",
       "      <td>0.0</td>\n",
       "      <td>0.0</td>\n",
       "    </tr>\n",
       "    <tr>\n",
       "      <th>3</th>\n",
       "      <td>6412</td>\n",
       "      <td>Austin</td>\n",
       "      <td>Texas</td>\n",
       "      <td>0.484332</td>\n",
       "      <td>0.329468</td>\n",
       "      <td>0.291600</td>\n",
       "      <td>0.221683</td>\n",
       "      <td>0.214668</td>\n",
       "      <td>0.219800</td>\n",
       "      <td>0.230200</td>\n",
       "      <td>...</td>\n",
       "      <td>0.223167</td>\n",
       "      <td>0.194233</td>\n",
       "      <td>0.232682</td>\n",
       "      <td>0.223332</td>\n",
       "      <td>0.202800</td>\n",
       "      <td>0.215450</td>\n",
       "      <td>0.0</td>\n",
       "      <td>0.0</td>\n",
       "      <td>0.0</td>\n",
       "      <td>0.0</td>\n",
       "    </tr>\n",
       "    <tr>\n",
       "      <th>4</th>\n",
       "      <td>5814</td>\n",
       "      <td>Austin</td>\n",
       "      <td>Texas</td>\n",
       "      <td>0.369000</td>\n",
       "      <td>0.235483</td>\n",
       "      <td>0.046582</td>\n",
       "      <td>0.095550</td>\n",
       "      <td>0.093450</td>\n",
       "      <td>0.027533</td>\n",
       "      <td>0.026867</td>\n",
       "      <td>...</td>\n",
       "      <td>0.113767</td>\n",
       "      <td>0.113250</td>\n",
       "      <td>0.112668</td>\n",
       "      <td>0.095033</td>\n",
       "      <td>0.091082</td>\n",
       "      <td>0.090950</td>\n",
       "      <td>0.0</td>\n",
       "      <td>0.0</td>\n",
       "      <td>0.0</td>\n",
       "      <td>0.0</td>\n",
       "    </tr>\n",
       "    <tr>\n",
       "      <th>5</th>\n",
       "      <td>8046</td>\n",
       "      <td>Austin</td>\n",
       "      <td>Texas</td>\n",
       "      <td>0.168717</td>\n",
       "      <td>0.131217</td>\n",
       "      <td>0.093382</td>\n",
       "      <td>0.072432</td>\n",
       "      <td>0.086667</td>\n",
       "      <td>0.072432</td>\n",
       "      <td>0.087500</td>\n",
       "      <td>...</td>\n",
       "      <td>0.183450</td>\n",
       "      <td>0.189718</td>\n",
       "      <td>0.181468</td>\n",
       "      <td>0.176150</td>\n",
       "      <td>0.289650</td>\n",
       "      <td>0.251468</td>\n",
       "      <td>0.0</td>\n",
       "      <td>0.0</td>\n",
       "      <td>0.0</td>\n",
       "      <td>0.0</td>\n",
       "    </tr>\n",
       "  </tbody>\n",
       "</table>\n",
       "<p>5 rows × 35043 columns</p>\n",
       "</div>"
      ],
      "text/plain": [
       "   user_id  cities states  2015-01-01 00:00:00  2015-01-01 00:15:00  \\\n",
       "1     3935  Austin  Texas             0.327050             0.229933   \n",
       "2      668  Austin  Texas             0.380267             0.270450   \n",
       "3     6412  Austin  Texas             0.484332             0.329468   \n",
       "4     5814  Austin  Texas             0.369000             0.235483   \n",
       "5     8046  Austin  Texas             0.168717             0.131217   \n",
       "\n",
       "   2015-01-01 00:30:00  2015-01-01 00:45:00  2015-01-01 01:00:00  \\\n",
       "1             0.224068             0.222282             0.198933   \n",
       "2             0.246333             0.193282             0.203832   \n",
       "3             0.291600             0.221683             0.214668   \n",
       "4             0.046582             0.095550             0.093450   \n",
       "5             0.093382             0.072432             0.086667   \n",
       "\n",
       "   2015-01-01 01:15:00  2015-01-01 01:30:00         ...           \\\n",
       "1             0.188850             0.188400         ...            \n",
       "2             0.214600             0.218750         ...            \n",
       "3             0.219800             0.230200         ...            \n",
       "4             0.027533             0.026867         ...            \n",
       "5             0.072432             0.087500         ...            \n",
       "\n",
       "   2015-12-31 21:30:00  2015-12-31 21:45:00  2015-12-31 22:00:00  \\\n",
       "1             0.180033             0.212550             0.203017   \n",
       "2             0.094833             0.059950             0.060382   \n",
       "3             0.223167             0.194233             0.232682   \n",
       "4             0.113767             0.113250             0.112668   \n",
       "5             0.183450             0.189718             0.181468   \n",
       "\n",
       "   2015-12-31 22:15:00  2015-12-31 22:30:00  2015-12-31 22:45:00  \\\n",
       "1             0.219968             0.228933             0.179067   \n",
       "2             0.078582             0.116950             0.089332   \n",
       "3             0.223332             0.202800             0.215450   \n",
       "4             0.095033             0.091082             0.090950   \n",
       "5             0.176150             0.289650             0.251468   \n",
       "\n",
       "   2015-12-31 23:00:00  2015-12-31 23:15:00  2015-12-31 23:30:00  \\\n",
       "1                  0.0                  0.0                  0.0   \n",
       "2                  0.0                  0.0                  0.0   \n",
       "3                  0.0                  0.0                  0.0   \n",
       "4                  0.0                  0.0                  0.0   \n",
       "5                  0.0                  0.0                  0.0   \n",
       "\n",
       "   2015-12-31 23:45:00  \n",
       "1                  0.0  \n",
       "2                  0.0  \n",
       "3                  0.0  \n",
       "4                  0.0  \n",
       "5                  0.0  \n",
       "\n",
       "[5 rows x 35043 columns]"
      ]
     },
     "execution_count": 4,
     "metadata": {},
     "output_type": "execute_result"
    }
   ],
   "source": [
    "consumption_df.head()"
   ]
  },
  {
   "cell_type": "code",
   "execution_count": 5,
   "metadata": {},
   "outputs": [],
   "source": [
    "cIDs = consumption_df.user_id.unique()\n",
    "consumption_df = consumption_df.set_index('user_id')"
   ]
  },
  {
   "cell_type": "code",
   "execution_count": 6,
   "metadata": {},
   "outputs": [],
   "source": [
    "min15_df = consumption_df.iloc[:,2:]"
   ]
  },
  {
   "cell_type": "code",
   "execution_count": 7,
   "metadata": {},
   "outputs": [],
   "source": [
    "min15Vals = min15_df.iloc[:,:].values"
   ]
  },
  {
   "cell_type": "code",
   "execution_count": 8,
   "metadata": {},
   "outputs": [],
   "source": [
    "# change the vals to hourly\n",
    "[a,b] = np.shape(min15Vals)\n",
    "hourlyVals = np.zeros((a,b/4))\n",
    "for j in range(b/4):\n",
    "    hourlyVals[:,j] = np.sum(min15Vals[:,j*4+0:(j+1)*4], axis=1)"
   ]
  },
  {
   "cell_type": "code",
   "execution_count": 9,
   "metadata": {},
   "outputs": [
    {
     "name": "stdout",
     "output_type": "stream",
     "text": [
      "8760\n"
     ]
    }
   ],
   "source": [
    "# make an hourly dataframe\n",
    "colsT = pd.date_range(start='1/1/2015', end='1/1/2016', freq='1H')[0:-1]\n",
    "print len(colsT)\n",
    "hourly_df = pd.DataFrame(hourlyVals, index=np.arange(a), columns=colsT)\n",
    "\n",
    "hourly_df['user_id'] = cIDs\n",
    "hourly_df = hourly_df.set_index('user_id')"
   ]
  },
  {
   "cell_type": "code",
   "execution_count": 10,
   "metadata": {},
   "outputs": [],
   "source": [
    "# first lets look at the consumption data - aggregate plus a couple of individual\n",
    "aggregateLoad = hourly_df.sum(axis=0)"
   ]
  },
  {
   "cell_type": "code",
   "execution_count": 11,
   "metadata": {},
   "outputs": [],
   "source": [
    "startTrain,endTrain,startPred,endPred = 0,5832,5832,7296"
   ]
  },
  {
   "cell_type": "code",
   "execution_count": 12,
   "metadata": {},
   "outputs": [],
   "source": [
    "arimaTestData = aggregateLoad[startTrain:endTrain]"
   ]
  },
  {
   "cell_type": "code",
   "execution_count": 13,
   "metadata": {},
   "outputs": [],
   "source": [
    "### make an ARIMA model"
   ]
  },
  {
   "cell_type": "code",
   "execution_count": 14,
   "metadata": {},
   "outputs": [],
   "source": [
    "def test_stationarity(timeseries):\n",
    "    \n",
    "    #Determing rolling statistics\n",
    "    rolmean = timeseries.rolling(window=12, center=False).mean()\n",
    "    rolstd = timeseries.rolling(window=12, center=False).std()\n",
    "\n",
    "    #Plot rolling statistics:\n",
    "    orig = plt.plot(timeseries, color='blue',label='Original')\n",
    "    mean = plt.plot(rolmean, color='red', label='Rolling Mean')\n",
    "    std = plt.plot(rolstd, color='black', label = 'Rolling Std')\n",
    "    plt.legend(loc='best')\n",
    "    plt.title('Rolling Mean & Standard Deviation')\n",
    "    plt.show(block=False)\n",
    "    \n",
    "    #Perform Dickey-Fuller test:\n",
    "    print 'Results of Dickey-Fuller Test:'\n",
    "    dftest = adfuller(timeseries, autolag='AIC')\n",
    "    dfoutput = pd.Series(dftest[0:4], index=['Test Statistic','p-value','#Lags Used','Number of Observations Used'])\n",
    "    for key,value in dftest[4].items():\n",
    "        dfoutput['Critical Value (%s)'%key] = value\n",
    "    print dfoutput"
   ]
  },
  {
   "cell_type": "code",
   "execution_count": 15,
   "metadata": {},
   "outputs": [],
   "source": [
    "# look at the timeseries and its stationarity\n",
    "arimaTestDiff = arimaTestData.diff(1)\n",
    "arimaTestSeason = arimaTestData.diff(24)\n",
    "arimaTestDiffPlusSeason = arimaTestDiff - arimaTestSeason\n",
    "\n",
    "# remove nans by using df.dropna()"
   ]
  },
  {
   "cell_type": "code",
   "execution_count": 16,
   "metadata": {},
   "outputs": [
    {
     "data": {
      "image/png": "[encoded data removed]",
      "text/plain": [
       "<Figure size 432x288 with 1 Axes>"
      ]
     },
     "metadata": {
      "needs_background": "light"
     },
     "output_type": "display_data"
    },
    {
     "name": "stdout",
     "output_type": "stream",
     "text": [
      "Results of Dickey-Fuller Test:\n",
      "Test Statistic                -1.614914e+01\n",
      "p-value                        4.589249e-29\n",
      "#Lags Used                     3.400000e+01\n",
      "Number of Observations Used    5.796000e+03\n",
      "Critical Value (5%)           -2.862039e+00\n",
      "Critical Value (1%)           -3.431479e+00\n",
      "Critical Value (10%)          -2.567036e+00\n",
      "dtype: float64\n"
     ]
    }
   ],
   "source": [
    "test_stationarity(arimaTestDiff.dropna())"
   ]
  },
  {
   "cell_type": "code",
   "execution_count": 17,
   "metadata": {},
   "outputs": [
    {
     "data": {
      "text/plain": [
       "[<matplotlib.lines.Line2D at 0x7ff74cc24190>]"
      ]
     },
     "execution_count": 17,
     "metadata": {},
     "output_type": "execute_result"
    },
    {
     "data": {
      "image/png": "[encoded data removed]",
      "text/plain": [
       "<Figure size 432x288 with 1 Axes>"
      ]
     },
     "metadata": {
      "needs_background": "light"
     },
     "output_type": "display_data"
    }
   ],
   "source": [
    "ts_log = np.log(arimaTestData)\n",
    "moving_avg = ts_log.rolling(window=12,center=False).mean()\n",
    "plt.plot(ts_log)\n",
    "plt.plot(moving_avg, color='red')"
   ]
  },
  {
   "cell_type": "code",
   "execution_count": 18,
   "metadata": {},
   "outputs": [
    {
     "name": "stderr",
     "output_type": "stream",
     "text": [
      "/usr/local/lib/python2.7/dist-packages/statsmodels/tsa/base/tsa_model.py:171: ValueWarning: No frequency information was provided, so inferred frequency H will be used.\n",
      "  % freq, ValueWarning)\n"
     ]
    }
   ],
   "source": [
    "# define SARIMAX model and fit it to the data\n",
    "mdl = sm.tsa.statespace.SARIMAX(arimaTestData,\n",
    "                                order=(0, 0, 0),\n",
    "                                seasonal_order = (1,1,1,12),\n",
    "                                enforce_stationarity=True,\n",
    "                                enforce_invertibility=True)\n",
    "res = mdl.fit()"
   ]
  },
  {
   "cell_type": "code",
   "execution_count": 19,
   "metadata": {},
   "outputs": [
    {
     "name": "stdout",
     "output_type": "stream",
     "text": [
      "63688.514300027746\n",
      "                            Statespace Model Results                            \n",
      "================================================================================\n",
      "Dep. Variable:                        y   No. Observations:                 5832\n",
      "Model:             SARIMAX(1, 1, 1, 12)   Log Likelihood              -31841.257\n",
      "Date:                  Mon, 05 Nov 2018   AIC                          63688.514\n",
      "Time:                          15:48:02   BIC                          63708.521\n",
      "Sample:                      01-01-2015   HQIC                         63695.473\n",
      "                           - 08-31-2015                                         \n",
      "Covariance Type:                    opg                                         \n",
      "==============================================================================\n",
      "                 coef    std err          z      P>|z|      [0.025      0.975]\n",
      "------------------------------------------------------------------------------\n",
      "ar.S.L12      -0.9865      0.002   -431.843      0.000      -0.991      -0.982\n",
      "ma.S.L12       0.2941      0.014     20.873      0.000       0.266       0.322\n",
      "sigma2      3287.8564     36.946     88.990      0.000    3215.443    3360.270\n",
      "===================================================================================\n",
      "Ljung-Box (Q):                    17753.61   Jarque-Bera (JB):              5194.35\n",
      "Prob(Q):                              0.00   Prob(JB):                         0.00\n",
      "Heteroskedasticity (H):               1.85   Skew:                            -0.33\n",
      "Prob(H) (two-sided):                  0.00   Kurtosis:                         7.58\n",
      "===================================================================================\n",
      "\n",
      "Warnings:\n",
      "[1] Covariance matrix calculated using the outer product of gradients (complex-step).\n"
     ]
    }
   ],
   "source": [
    "# print statistics\n",
    "print(res.aic)\n",
    "print(res.summary())"
   ]
  },
  {
   "cell_type": "code",
   "execution_count": 20,
   "metadata": {},
   "outputs": [
    {
     "data": {
      "image/png": "[encoded data removed]",
      "text/plain": [
       "<Figure size 720x432 with 4 Axes>"
      ]
     },
     "metadata": {
      "needs_background": "light"
     },
     "output_type": "display_data"
    }
   ],
   "source": [
    "res.plot_diagnostics(figsize=(10, 6))\n",
    "plt.tight_layout()\n",
    "plt.show()"
   ]
  },
  {
   "cell_type": "code",
   "execution_count": 21,
   "metadata": {},
   "outputs": [],
   "source": [
    "X = aggregateLoad.values"
   ]
  },
  {
   "cell_type": "code",
   "execution_count": 22,
   "metadata": {},
   "outputs": [],
   "source": [
    "import warnings\n",
    "import itertools\n",
    "warnings.filterwarnings(\"ignore\") # specify to ignore warning messages\n",
    "\n",
    "p = d = q = range(0, 2) # Define the p, d and q parameters to take any value between 0 and 2\n",
    "pdq = list(itertools.product(p, d, q)) # Generate all different combinations of p, q and q triplets\n",
    "pdq_x_QDQs = [(x[0], x[1], x[2], 24) for x in list(itertools.product(p, d, q))]"
   ]
  },
  {
   "cell_type": "code",
   "execution_count": 23,
   "metadata": {},
   "outputs": [],
   "source": [
    "train = arimaTestData.values\n",
    "\n",
    "def eval_mdl(mdlParams,train):\n",
    "    # use at least one day history, so first prediction is for train[47]\n",
    "    predictions = np.zeros((len(train)-47))\n",
    "    for t in range(len(train)-47):\n",
    "        history = train[0:24+t]\n",
    "        modTest = sm.tsa.statespace.SARIMAX(history,\n",
    "                                    order=param,\n",
    "                                    seasonal_order=seasonal_param,\n",
    "                                    enforce_stationarity=False,\n",
    "                                    enforce_invertibility=False)\n",
    "        modTestResults = modTest.filter(results.params)\n",
    "        # now generate a forecast for train[t+47]\n",
    "        predictions[t] = modTestResults.forecast(steps=24)[23]\n",
    "    APEs = np.abs(predictions-train[47:])/np.abs(train[47:])\n",
    "    return np.mean(APEs)"
   ]
  },
  {
   "cell_type": "code",
   "execution_count": null,
   "metadata": {},
   "outputs": [
    {
     "name": "stdout",
     "output_type": "stream",
     "text": [
      "ARIMA(0, 0, 0)x(0, 0, 0, 24)\n",
      "MAPE:1.0 \n",
      "\n",
      "ARIMA(0, 0, 0)x(0, 0, 1, 24)\n"
     ]
    }
   ],
   "source": [
    "ti = time.time()\n",
    "best_MAPE = np.inf\n",
    "best_pdq = None\n",
    "best_seasonal = None\n",
    "for param in pdq:\n",
    "    for seasonal_param in pdq_x_QDQs:\n",
    "        try:\n",
    "            #seasonal_param = (1,0,0,24)\n",
    "            #param = (1,0,0)\n",
    "            print('ARIMA{}x{}'.format(param, seasonal_param))\n",
    "            sys.stdout.flush()\n",
    "            mod = sm.tsa.statespace.SARIMAX(train,\n",
    "                                            order=param,\n",
    "                                            seasonal_order=seasonal_param,\n",
    "                                            enforce_stationarity=False,\n",
    "                                            enforce_invertibility=False)\n",
    "            results = mod.fit()\n",
    "            # generate a 24 hr ahead rolling forecast\n",
    "            MAPE = eval_mdl(results.params, train)\n",
    "\n",
    "            print('MAPE:{} \\n'.format(MAPE))  \n",
    "            sys.stdout.flush()\n",
    "            \n",
    "            if MAPE < best_MAPE:\n",
    "                best_MAPE = 0+MAPE\n",
    "                best_pdq = param\n",
    "                best_seasonal = seasonal_param\n",
    "        except:\n",
    "            continue\n",
    "            \n",
    "print 'elapsed time: %.2f'%(time.time()-ti)\n",
    "# f = open('arimaBestFile.dat', 'wb')\n",
    "# f.write('ARIMA{}x{}, MAPE:{} \\n'.format(best_pdq, best_seasonal, best_MAPE))\n",
    "# f.close()"
   ]
  },
  {
   "cell_type": "code",
   "execution_count": null,
   "metadata": {},
   "outputs": [],
   "source": [
    "len(train)-47"
   ]
  },
  {
   "cell_type": "code",
   "execution_count": null,
   "metadata": {},
   "outputs": [],
   "source": [
    "best_pdq, best_seasonal"
   ]
  },
  {
   "cell_type": "code",
   "execution_count": null,
   "metadata": {},
   "outputs": [],
   "source": [
    "## create the model and train it using the training data\n",
    "train, test = X[0:endTrain], X[startPred:endPred]\n",
    "\n",
    "normalOrder = np.copy(best_pdq)\n",
    "seasonalOrder = np.copy(best_seasonal)\n",
    "\n",
    "training_mdl = sm.tsa.statespace.SARIMAX(train,\n",
    "                                order=normalOrder, \n",
    "                                seasonal_order=seasonalOrder,\n",
    "                                enforce_stationarity=False,\n",
    "                                enforce_invertibility=False)\n",
    "training_res = training_mdl.fit()"
   ]
  },
  {
   "cell_type": "code",
   "execution_count": null,
   "metadata": {},
   "outputs": [],
   "source": [
    "## create the model to do the predictions and use the same parameters as from the training\n",
    "ti = time.time()\n",
    "mdlOneStepAhead = sm.tsa.statespace.SARIMAX(X[0:endPred],\n",
    "                                order=normalOrder,\n",
    "                                seasonal_order = seasonalOrder,\n",
    "                                enforce_stationarity=False,\n",
    "                                enforce_invertibility=False)\n",
    "resOneStepAhead = mdlOneStepAhead.filter(training_res.params)\n",
    "print 'elapsed time = :%.2f'%(time.time()-ti)"
   ]
  },
  {
   "cell_type": "code",
   "execution_count": null,
   "metadata": {},
   "outputs": [],
   "source": [
    "## insample prediction 1 step ahead\n",
    "insample = resOneStepAhead.predict()\n",
    "\n",
    "APEsOneStep = np.abs(insample[startPred:endPred]-test)/np.abs(test)\n",
    "print 'one stpe ahead MAPE', np.mean(APEsOneStep)"
   ]
  },
  {
   "cell_type": "code",
   "execution_count": null,
   "metadata": {},
   "outputs": [],
   "source": [
    "newColors = sns.color_palette()"
   ]
  },
  {
   "cell_type": "code",
   "execution_count": null,
   "metadata": {},
   "outputs": [],
   "source": [
    "## now make a rolling forecast for a day and inspect\n",
    "ti = time.time()\n",
    "\n",
    "prediction24 = np.zeros((24))\n",
    "\n",
    "for t in range(24):\n",
    "    #print t\n",
    "    sys.stdout.flush()\n",
    "    mdlDayAhead = sm.tsa.statespace.SARIMAX(X[0:startPred+t-23],\n",
    "                                order=normalOrder,\n",
    "                                seasonal_order = seasonalOrder,\n",
    "                                enforce_stationarity=False,\n",
    "                                enforce_invertibility=False)\n",
    "    # use already fitted params\n",
    "    resDayAhead = mdlDayAhead.filter(training_res.params)\n",
    "    prediction24[t] = resDayAhead.forecast(steps=24)[23]\n",
    "    if t==0:\n",
    "        forecast_at_start = res.forecast(steps=24)\n",
    "forecast_at_end = res.forecast(steps=24)\n",
    "print forecast_at_start[0], X[startPred-23]"
   ]
  },
  {
   "cell_type": "code",
   "execution_count": null,
   "metadata": {},
   "outputs": [],
   "source": [
    "testPlot = np.zeros((48))\n",
    "testPlot[0:24] = forecast_at_start\n",
    "testPlot[24:] = prediction24\n",
    "fig = plt.figure(figsize = (6,4))\n",
    "# look at 3 days before\n",
    "startGraph = startPred-3*24\n",
    "ax1 = fig.add_subplot(111)\n",
    "l1, = ax1.plot(np.arange(0,72), X[startGraph:startPred], color=newColors[0])\n",
    "l2, = ax1.plot(np.arange(72,96), forecast_at_end, color=newColors[1])\n",
    "l3, = ax1.plot(np.arange(72,96), X[startPred:startPred+24], color=newColors[2])\n",
    "l4, = ax1.plot(np.arange(48,96), testPlot, color=newColors[3])\n",
    "ax1.set_xlim([0,96])\n",
    "ax1.legend([l1,l2,l3,l4],['history','forecast at startPred','actual', 'rolling forecast'])"
   ]
  },
  {
   "cell_type": "code",
   "execution_count": null,
   "metadata": {},
   "outputs": [],
   "source": []
  },
  {
   "cell_type": "code",
   "execution_count": null,
   "metadata": {},
   "outputs": [],
   "source": []
  },
  {
   "cell_type": "code",
   "execution_count": null,
   "metadata": {},
   "outputs": [],
   "source": []
  }
 ],
 "metadata": {
  "kernelspec": {
   "display_name": "Python 2",
   "language": "python",
   "name": "python2"
  },
  "language_info": {
   "codemirror_mode": {
    "name": "ipython",
    "version": 2
   },
   "file_extension": ".py",
   "mimetype": "text/x-python",
   "name": "python",
   "nbconvert_exporter": "python",
   "pygments_lexer": "ipython2",
   "version": "2.7.12"
  }
 },
 "nbformat": 4,
 "nbformat_minor": 2
}
